{
  "nbformat": 4,
  "nbformat_minor": 0,
  "metadata": {
    "colab": {
      "provenance": []
    },
    "kernelspec": {
      "name": "python3",
      "display_name": "Python 3"
    },
    "language_info": {
      "name": "python"
    }
  },
  "cells": [
    {
      "cell_type": "markdown",
      "source": [
        "\n",
        "#PROPOSAL OF QUESTION\n",
        "\n",
        "To apply k-means clustering in a real-world organizational context, I propose the following question:\n",
        "\n",
        "\"How can we segment customers based on their demographics and service usage patterns to identify distinct groups for targeted marketing strategies?\"\n"
      ],
      "metadata": {
        "id": "8yQcdRBtiQ1B"
      }
    },
    {
      "cell_type": "markdown",
      "source": [
        "\n",
        "###DEFINED GOAL\n",
        "\n",
        "The primary goal of this data analysis is to identify distinct customer segments based on their demographic characteristics and service usage behaviors in order to develop tailored marketing strategies for improving customer retention and satisfaction. This goal is achievable by leveraging the available data attributes, such as \"Age,\" \"Income,\" \"MonthlyCharge,\" and \"Bandwidth_GB_Year,\" to perform k-means clustering, which will reveal patterns and insights necessary for effective market segmentation.\n"
      ],
      "metadata": {
        "id": "0hNIcYEWiXJT"
      }
    },
    {
      "cell_type": "markdown",
      "source": [
        "\n",
        "###EXPLANATION OF THE CLUSTERING TECHNIQUE\n",
        "\n",
        "For this analysis, the k-means clustering technique has been chosen to segment the customer dataset based on key continuous variables such as \"Age,\" \"Income,\" \"MonthlyCharge,\" and \"Bandwidth_GB_Year.\" K-means is an unsupervised machine learning algorithm that groups data points into clusters based on their similarity. The algorithm aims to minimize the distance of each data point from the center of its assigned cluster, which represents the average of all points within that cluster.\n",
        "\n",
        "Process:\n",
        "\n",
        "1. Data Preparation: Continuous variables like \"Age,\" \"Income,\" \"MonthlyCharge,\" and \"Bandwidth_GB_Year\" are scaled to ensure that no single attribute dominates due to differences in range.\n",
        "\n",
        "2. Model Training: The k-means algorithm is applied to the dataset, with the number of clusters (k) being determined either through domain knowledge or by employing techniques such as the elbow method to find the optimal value for k.\n",
        "\n",
        "3. Cluster Assignment: The data points are assigned to clusters based on the proximity to cluster centroids. Each cluster is defined by customers with similar demographic and service usage characteristics.\n",
        "\n",
        "Expected Outcomes:\n",
        "\n",
        "- Customer Segmentation: The outcome will include multiple distinct clusters that represent groups of customers with similar behaviors and demographics. For example, one cluster may consist of young, high-income individuals with high data usage, while another might include older customers with low data usage and lower monthly charges.\n",
        "\n",
        "- Insight Generation: These clusters will help reveal the underlying patterns of customer behaviors and preferences.\n",
        "\n",
        "- Targeted Marketing: The results of the analysis will allow the organization to design tailored marketing strategies for each segment. For instance, a high-value customer cluster might be targeted with premium offers, while low-engagement groups could be approached with incentives to increase service usage.\n",
        "\n",
        "The expected outcome is to have well-defined, actionable clusters that facilitate understanding of customer diversity, enabling the organization to develop targeted approaches for customer acquisition, retention, and satisfaction enhancement.\n"
      ],
      "metadata": {
        "id": "BrOv6V3nifIh"
      }
    },
    {
      "cell_type": "markdown",
      "source": [
        "\n",
        "###SUMMARY OF THE TECHNIQUE ASSUMPTION\n",
        "\n",
        "One key assumption of the k-means clustering technique is that clusters are spherical and equally sized in feature space. This means that k-means assumes that the data points within each cluster are distributed in a roughly spherical manner around the cluster centroid, and that all clusters have similar sizes in terms of data density. This assumption simplifies cluster formation but may lead to suboptimal results if the actual data has complex shapes or varying cluster densities. Consequently, k-means is best suited for datasets where the underlying groupings are relatively uniform and can be adequately represented by spherical clusters.\n"
      ],
      "metadata": {
        "id": "Rfn0XiA4iuMr"
      }
    },
    {
      "cell_type": "code",
      "execution_count": null,
      "metadata": {
        "colab": {
          "base_uri": "https://localhost:8080/"
        },
        "id": "dw5VwCx-z0HC",
        "outputId": "9ffa8130-0352-4530-99bc-7bd0f4211408"
      },
      "outputs": [
        {
          "output_type": "stream",
          "name": "stdout",
          "text": [
            "Drive already mounted at /content/drive; to attempt to forcibly remount, call drive.mount(\"/content/drive\", force_remount=True).\n"
          ]
        }
      ],
      "source": [
        "#mount google drive\n",
        "from google.colab import drive\n",
        "drive.mount('/content/drive')"
      ]
    },
    {
      "cell_type": "code",
      "source": [
        "import os\n",
        "os.chdir('/content/drive/My Drive/D212')"
      ],
      "metadata": {
        "id": "KAzupK5-z6pK"
      },
      "execution_count": null,
      "outputs": []
    },
    {
      "cell_type": "markdown",
      "source": [
        "\n",
        "###PACKAGES OR LIBRARIES LIST\n",
        "\n",
        "Packages and Libraries for Analysis:\n",
        "1. pandas (import pandas as pd):\n",
        "\n",
        "  -Justification: Used for data manipulation and analysis. It provides data structures like DataFrames that are ideal for handling and preparing data prior to clustering.\n",
        "\n",
        "2. numpy (import numpy as np):\n",
        "\n",
        " - Justification: Offers support for numerical operations, including efficient handling of arrays and mathematical computations, which is necessary for data preprocessing and scaling.\n",
        "\n",
        "3. matplotlib (import matplotlib.pyplot as plt):\n",
        "\n",
        " - Justification: Used for data visualization. It helps visualize clusters, plot metrics like the elbow graph, and provides insight into data distribution, making it easier to determine optimal cluster numbers.\n",
        "\n",
        "4. seaborn (import seaborn as sns):\n",
        "\n",
        " - Justification: A high-level visualization library based on matplotlib. It is used for creating more informative and visually appealing plots, which help to understand data patterns before and after clustering.\n",
        "\n",
        "5. scipy (from scipy import stats):\n",
        "\n",
        " - Justification: Provides statistical functions and utilities that can be useful for data exploration, normalization, and evaluating the distribution of variables prior to clustering.\n",
        "\n",
        "6. scikit-learn (KMeans and metrics):\n",
        "\n",
        " - KMeans (from sklearn.cluster import KMeans):\n",
        "    \n",
        "    - Justification: This is the main clustering algorithm being used. It allows us to apply k-means clustering to the dataset and includes options for parameter tuning, such as selecting the number of clusters.\n",
        "\n",
        " - Metrics (from sklearn import metrics):\n",
        "\n",
        "    - Justification: Used for evaluating the quality of clustering by calculating various performance metrics.\n",
        "\n",
        " - Silhouette Score, Adjusted Rand Score, Davies-Bouldin Score (from sklearn.metrics import silhouette_score, adjusted_rand_score, davies_bouldin_score):\n",
        "\n",
        "    - Justification: These metrics are used to evaluate the clustering results:\n",
        "\n",
        "      - Silhouette Score: Measures how similar a point is to its own cluster compared to other clusters, giving an indication of cohesion and separation.\n",
        "\n",
        "      - Adjusted Rand Score: Evaluates the similarity between two clusterings, helpful when comparing clustering results to ground truth labels.\n",
        "\n",
        "      - Davies-Bouldin Score: Evaluates the ratio of within-cluster distances to between-cluster distances, helping to determine the compactness and separation of the clusters.\n",
        "\n",
        "These libraries collectively support data preparation, visualization, clustering, and evaluation, making them well-suited for implementing the k-means clustering technique and gaining insights into the customer segments."
      ],
      "metadata": {
        "id": "dfSN587mizdp"
      }
    },
    {
      "cell_type": "code",
      "source": [
        "# Import libraries\n",
        "import pandas as pd\n",
        "import numpy as np\n",
        "import matplotlib.pyplot as plt\n",
        "import seaborn as sns\n",
        "from scipy import stats\n",
        "from sklearn.cluster import KMeans\n",
        "from sklearn import metrics\n",
        "from sklearn.metrics import silhouette_score, adjusted_rand_score, davies_bouldin_score\n",
        "\n",
        "import warnings\n",
        "warnings.filterwarnings('ignore')\n",
        "\n",
        "# import data from csv\n",
        "df = pd.read_csv('/content/drive/MyDrive/D212/churn_clean.csv', usecols = [\"Age\", \"Income\", \"MonthlyCharge\", \"Bandwidth_GB_Year\"], index_col = False)\n",
        "df.info()"
      ],
      "metadata": {
        "colab": {
          "base_uri": "https://localhost:8080/"
        },
        "id": "C5XADbphz81w",
        "outputId": "5f2c3c2b-00a4-4465-b308-20ecd174ff80"
      },
      "execution_count": null,
      "outputs": [
        {
          "output_type": "stream",
          "name": "stdout",
          "text": [
            "<class 'pandas.core.frame.DataFrame'>\n",
            "RangeIndex: 10000 entries, 0 to 9999\n",
            "Data columns (total 4 columns):\n",
            " #   Column             Non-Null Count  Dtype  \n",
            "---  ------             --------------  -----  \n",
            " 0   Age                10000 non-null  int64  \n",
            " 1   Income             10000 non-null  float64\n",
            " 2   MonthlyCharge      10000 non-null  float64\n",
            " 3   Bandwidth_GB_Year  10000 non-null  float64\n",
            "dtypes: float64(3), int64(1)\n",
            "memory usage: 312.6 KB\n"
          ]
        }
      ]
    },
    {
      "cell_type": "code",
      "source": [
        "df.columns = df.columns.str.lower()\n",
        "df.isna().sum()"
      ],
      "metadata": {
        "colab": {
          "base_uri": "https://localhost:8080/",
          "height": 209
        },
        "id": "m5ELrTsH6pzt",
        "outputId": "2ea9a272-4711-4692-feb9-e22d1ed71c9d"
      },
      "execution_count": null,
      "outputs": [
        {
          "output_type": "execute_result",
          "data": {
            "text/plain": [
              "age                  0\n",
              "income               0\n",
              "monthlycharge        0\n",
              "bandwidth_gb_year    0\n",
              "dtype: int64"
            ],
            "text/html": [
              "<div>\n",
              "<style scoped>\n",
              "    .dataframe tbody tr th:only-of-type {\n",
              "        vertical-align: middle;\n",
              "    }\n",
              "\n",
              "    .dataframe tbody tr th {\n",
              "        vertical-align: top;\n",
              "    }\n",
              "\n",
              "    .dataframe thead th {\n",
              "        text-align: right;\n",
              "    }\n",
              "</style>\n",
              "<table border=\"1\" class=\"dataframe\">\n",
              "  <thead>\n",
              "    <tr style=\"text-align: right;\">\n",
              "      <th></th>\n",
              "      <th>0</th>\n",
              "    </tr>\n",
              "  </thead>\n",
              "  <tbody>\n",
              "    <tr>\n",
              "      <th>age</th>\n",
              "      <td>0</td>\n",
              "    </tr>\n",
              "    <tr>\n",
              "      <th>income</th>\n",
              "      <td>0</td>\n",
              "    </tr>\n",
              "    <tr>\n",
              "      <th>monthlycharge</th>\n",
              "      <td>0</td>\n",
              "    </tr>\n",
              "    <tr>\n",
              "      <th>bandwidth_gb_year</th>\n",
              "      <td>0</td>\n",
              "    </tr>\n",
              "  </tbody>\n",
              "</table>\n",
              "</div><br><label><b>dtype:</b> int64</label>"
            ]
          },
          "metadata": {},
          "execution_count": 4
        }
      ]
    },
    {
      "cell_type": "code",
      "source": [
        "df.describe()"
      ],
      "metadata": {
        "colab": {
          "base_uri": "https://localhost:8080/",
          "height": 300
        },
        "id": "zl0ih3rZ61Xu",
        "outputId": "d11ce61b-87d5-43b1-c3aa-b6ea4b8105b7"
      },
      "execution_count": null,
      "outputs": [
        {
          "output_type": "execute_result",
          "data": {
            "text/plain": [
              "                age         income  monthlycharge  bandwidth_gb_year\n",
              "count  10000.000000   10000.000000   10000.000000       10000.000000\n",
              "mean      53.078400   39806.926771     172.624816        3392.341550\n",
              "std       20.698882   28199.916702      42.943094        2185.294852\n",
              "min       18.000000     348.670000      79.978860         155.506715\n",
              "25%       35.000000   19224.717500     139.979239        1236.470827\n",
              "50%       53.000000   33170.605000     167.484700        3279.536903\n",
              "75%       71.000000   53246.170000     200.734725        5586.141370\n",
              "max       89.000000  258900.700000     290.160419        7158.981530"
            ],
            "text/html": [
              "\n",
              "  <div id=\"df-9560ceef-b51a-4af3-9bab-470737072f91\" class=\"colab-df-container\">\n",
              "    <div>\n",
              "<style scoped>\n",
              "    .dataframe tbody tr th:only-of-type {\n",
              "        vertical-align: middle;\n",
              "    }\n",
              "\n",
              "    .dataframe tbody tr th {\n",
              "        vertical-align: top;\n",
              "    }\n",
              "\n",
              "    .dataframe thead th {\n",
              "        text-align: right;\n",
              "    }\n",
              "</style>\n",
              "<table border=\"1\" class=\"dataframe\">\n",
              "  <thead>\n",
              "    <tr style=\"text-align: right;\">\n",
              "      <th></th>\n",
              "      <th>age</th>\n",
              "      <th>income</th>\n",
              "      <th>monthlycharge</th>\n",
              "      <th>bandwidth_gb_year</th>\n",
              "    </tr>\n",
              "  </thead>\n",
              "  <tbody>\n",
              "    <tr>\n",
              "      <th>count</th>\n",
              "      <td>10000.000000</td>\n",
              "      <td>10000.000000</td>\n",
              "      <td>10000.000000</td>\n",
              "      <td>10000.000000</td>\n",
              "    </tr>\n",
              "    <tr>\n",
              "      <th>mean</th>\n",
              "      <td>53.078400</td>\n",
              "      <td>39806.926771</td>\n",
              "      <td>172.624816</td>\n",
              "      <td>3392.341550</td>\n",
              "    </tr>\n",
              "    <tr>\n",
              "      <th>std</th>\n",
              "      <td>20.698882</td>\n",
              "      <td>28199.916702</td>\n",
              "      <td>42.943094</td>\n",
              "      <td>2185.294852</td>\n",
              "    </tr>\n",
              "    <tr>\n",
              "      <th>min</th>\n",
              "      <td>18.000000</td>\n",
              "      <td>348.670000</td>\n",
              "      <td>79.978860</td>\n",
              "      <td>155.506715</td>\n",
              "    </tr>\n",
              "    <tr>\n",
              "      <th>25%</th>\n",
              "      <td>35.000000</td>\n",
              "      <td>19224.717500</td>\n",
              "      <td>139.979239</td>\n",
              "      <td>1236.470827</td>\n",
              "    </tr>\n",
              "    <tr>\n",
              "      <th>50%</th>\n",
              "      <td>53.000000</td>\n",
              "      <td>33170.605000</td>\n",
              "      <td>167.484700</td>\n",
              "      <td>3279.536903</td>\n",
              "    </tr>\n",
              "    <tr>\n",
              "      <th>75%</th>\n",
              "      <td>71.000000</td>\n",
              "      <td>53246.170000</td>\n",
              "      <td>200.734725</td>\n",
              "      <td>5586.141370</td>\n",
              "    </tr>\n",
              "    <tr>\n",
              "      <th>max</th>\n",
              "      <td>89.000000</td>\n",
              "      <td>258900.700000</td>\n",
              "      <td>290.160419</td>\n",
              "      <td>7158.981530</td>\n",
              "    </tr>\n",
              "  </tbody>\n",
              "</table>\n",
              "</div>\n",
              "    <div class=\"colab-df-buttons\">\n",
              "\n",
              "  <div class=\"colab-df-container\">\n",
              "    <button class=\"colab-df-convert\" onclick=\"convertToInteractive('df-9560ceef-b51a-4af3-9bab-470737072f91')\"\n",
              "            title=\"Convert this dataframe to an interactive table.\"\n",
              "            style=\"display:none;\">\n",
              "\n",
              "  <svg xmlns=\"http://www.w3.org/2000/svg\" height=\"24px\" viewBox=\"0 -960 960 960\">\n",
              "    <path d=\"M120-120v-720h720v720H120Zm60-500h600v-160H180v160Zm220 220h160v-160H400v160Zm0 220h160v-160H400v160ZM180-400h160v-160H180v160Zm440 0h160v-160H620v160ZM180-180h160v-160H180v160Zm440 0h160v-160H620v160Z\"/>\n",
              "  </svg>\n",
              "    </button>\n",
              "\n",
              "  <style>\n",
              "    .colab-df-container {\n",
              "      display:flex;\n",
              "      gap: 12px;\n",
              "    }\n",
              "\n",
              "    .colab-df-convert {\n",
              "      background-color: #E8F0FE;\n",
              "      border: none;\n",
              "      border-radius: 50%;\n",
              "      cursor: pointer;\n",
              "      display: none;\n",
              "      fill: #1967D2;\n",
              "      height: 32px;\n",
              "      padding: 0 0 0 0;\n",
              "      width: 32px;\n",
              "    }\n",
              "\n",
              "    .colab-df-convert:hover {\n",
              "      background-color: #E2EBFA;\n",
              "      box-shadow: 0px 1px 2px rgba(60, 64, 67, 0.3), 0px 1px 3px 1px rgba(60, 64, 67, 0.15);\n",
              "      fill: #174EA6;\n",
              "    }\n",
              "\n",
              "    .colab-df-buttons div {\n",
              "      margin-bottom: 4px;\n",
              "    }\n",
              "\n",
              "    [theme=dark] .colab-df-convert {\n",
              "      background-color: #3B4455;\n",
              "      fill: #D2E3FC;\n",
              "    }\n",
              "\n",
              "    [theme=dark] .colab-df-convert:hover {\n",
              "      background-color: #434B5C;\n",
              "      box-shadow: 0px 1px 3px 1px rgba(0, 0, 0, 0.15);\n",
              "      filter: drop-shadow(0px 1px 2px rgba(0, 0, 0, 0.3));\n",
              "      fill: #FFFFFF;\n",
              "    }\n",
              "  </style>\n",
              "\n",
              "    <script>\n",
              "      const buttonEl =\n",
              "        document.querySelector('#df-9560ceef-b51a-4af3-9bab-470737072f91 button.colab-df-convert');\n",
              "      buttonEl.style.display =\n",
              "        google.colab.kernel.accessAllowed ? 'block' : 'none';\n",
              "\n",
              "      async function convertToInteractive(key) {\n",
              "        const element = document.querySelector('#df-9560ceef-b51a-4af3-9bab-470737072f91');\n",
              "        const dataTable =\n",
              "          await google.colab.kernel.invokeFunction('convertToInteractive',\n",
              "                                                    [key], {});\n",
              "        if (!dataTable) return;\n",
              "\n",
              "        const docLinkHtml = 'Like what you see? Visit the ' +\n",
              "          '<a target=\"_blank\" href=https://colab.research.google.com/notebooks/data_table.ipynb>data table notebook</a>'\n",
              "          + ' to learn more about interactive tables.';\n",
              "        element.innerHTML = '';\n",
              "        dataTable['output_type'] = 'display_data';\n",
              "        await google.colab.output.renderOutput(dataTable, element);\n",
              "        const docLink = document.createElement('div');\n",
              "        docLink.innerHTML = docLinkHtml;\n",
              "        element.appendChild(docLink);\n",
              "      }\n",
              "    </script>\n",
              "  </div>\n",
              "\n",
              "\n",
              "<div id=\"df-179ae160-1395-4e36-80da-c46f3e03111c\">\n",
              "  <button class=\"colab-df-quickchart\" onclick=\"quickchart('df-179ae160-1395-4e36-80da-c46f3e03111c')\"\n",
              "            title=\"Suggest charts\"\n",
              "            style=\"display:none;\">\n",
              "\n",
              "<svg xmlns=\"http://www.w3.org/2000/svg\" height=\"24px\"viewBox=\"0 0 24 24\"\n",
              "     width=\"24px\">\n",
              "    <g>\n",
              "        <path d=\"M19 3H5c-1.1 0-2 .9-2 2v14c0 1.1.9 2 2 2h14c1.1 0 2-.9 2-2V5c0-1.1-.9-2-2-2zM9 17H7v-7h2v7zm4 0h-2V7h2v10zm4 0h-2v-4h2v4z\"/>\n",
              "    </g>\n",
              "</svg>\n",
              "  </button>\n",
              "\n",
              "<style>\n",
              "  .colab-df-quickchart {\n",
              "      --bg-color: #E8F0FE;\n",
              "      --fill-color: #1967D2;\n",
              "      --hover-bg-color: #E2EBFA;\n",
              "      --hover-fill-color: #174EA6;\n",
              "      --disabled-fill-color: #AAA;\n",
              "      --disabled-bg-color: #DDD;\n",
              "  }\n",
              "\n",
              "  [theme=dark] .colab-df-quickchart {\n",
              "      --bg-color: #3B4455;\n",
              "      --fill-color: #D2E3FC;\n",
              "      --hover-bg-color: #434B5C;\n",
              "      --hover-fill-color: #FFFFFF;\n",
              "      --disabled-bg-color: #3B4455;\n",
              "      --disabled-fill-color: #666;\n",
              "  }\n",
              "\n",
              "  .colab-df-quickchart {\n",
              "    background-color: var(--bg-color);\n",
              "    border: none;\n",
              "    border-radius: 50%;\n",
              "    cursor: pointer;\n",
              "    display: none;\n",
              "    fill: var(--fill-color);\n",
              "    height: 32px;\n",
              "    padding: 0;\n",
              "    width: 32px;\n",
              "  }\n",
              "\n",
              "  .colab-df-quickchart:hover {\n",
              "    background-color: var(--hover-bg-color);\n",
              "    box-shadow: 0 1px 2px rgba(60, 64, 67, 0.3), 0 1px 3px 1px rgba(60, 64, 67, 0.15);\n",
              "    fill: var(--button-hover-fill-color);\n",
              "  }\n",
              "\n",
              "  .colab-df-quickchart-complete:disabled,\n",
              "  .colab-df-quickchart-complete:disabled:hover {\n",
              "    background-color: var(--disabled-bg-color);\n",
              "    fill: var(--disabled-fill-color);\n",
              "    box-shadow: none;\n",
              "  }\n",
              "\n",
              "  .colab-df-spinner {\n",
              "    border: 2px solid var(--fill-color);\n",
              "    border-color: transparent;\n",
              "    border-bottom-color: var(--fill-color);\n",
              "    animation:\n",
              "      spin 1s steps(1) infinite;\n",
              "  }\n",
              "\n",
              "  @keyframes spin {\n",
              "    0% {\n",
              "      border-color: transparent;\n",
              "      border-bottom-color: var(--fill-color);\n",
              "      border-left-color: var(--fill-color);\n",
              "    }\n",
              "    20% {\n",
              "      border-color: transparent;\n",
              "      border-left-color: var(--fill-color);\n",
              "      border-top-color: var(--fill-color);\n",
              "    }\n",
              "    30% {\n",
              "      border-color: transparent;\n",
              "      border-left-color: var(--fill-color);\n",
              "      border-top-color: var(--fill-color);\n",
              "      border-right-color: var(--fill-color);\n",
              "    }\n",
              "    40% {\n",
              "      border-color: transparent;\n",
              "      border-right-color: var(--fill-color);\n",
              "      border-top-color: var(--fill-color);\n",
              "    }\n",
              "    60% {\n",
              "      border-color: transparent;\n",
              "      border-right-color: var(--fill-color);\n",
              "    }\n",
              "    80% {\n",
              "      border-color: transparent;\n",
              "      border-right-color: var(--fill-color);\n",
              "      border-bottom-color: var(--fill-color);\n",
              "    }\n",
              "    90% {\n",
              "      border-color: transparent;\n",
              "      border-bottom-color: var(--fill-color);\n",
              "    }\n",
              "  }\n",
              "</style>\n",
              "\n",
              "  <script>\n",
              "    async function quickchart(key) {\n",
              "      const quickchartButtonEl =\n",
              "        document.querySelector('#' + key + ' button');\n",
              "      quickchartButtonEl.disabled = true;  // To prevent multiple clicks.\n",
              "      quickchartButtonEl.classList.add('colab-df-spinner');\n",
              "      try {\n",
              "        const charts = await google.colab.kernel.invokeFunction(\n",
              "            'suggestCharts', [key], {});\n",
              "      } catch (error) {\n",
              "        console.error('Error during call to suggestCharts:', error);\n",
              "      }\n",
              "      quickchartButtonEl.classList.remove('colab-df-spinner');\n",
              "      quickchartButtonEl.classList.add('colab-df-quickchart-complete');\n",
              "    }\n",
              "    (() => {\n",
              "      let quickchartButtonEl =\n",
              "        document.querySelector('#df-179ae160-1395-4e36-80da-c46f3e03111c button');\n",
              "      quickchartButtonEl.style.display =\n",
              "        google.colab.kernel.accessAllowed ? 'block' : 'none';\n",
              "    })();\n",
              "  </script>\n",
              "</div>\n",
              "\n",
              "    </div>\n",
              "  </div>\n"
            ],
            "application/vnd.google.colaboratory.intrinsic+json": {
              "type": "dataframe",
              "summary": "{\n  \"name\": \"df\",\n  \"rows\": 8,\n  \"fields\": [\n    {\n      \"column\": \"age\",\n      \"properties\": {\n        \"dtype\": \"number\",\n        \"std\": 3518.455251166197,\n        \"min\": 18.0,\n        \"max\": 10000.0,\n        \"num_unique_values\": 8,\n        \"samples\": [\n          53.0784,\n          53.0,\n          10000.0\n        ],\n        \"semantic_type\": \"\",\n        \"description\": \"\"\n      }\n    },\n    {\n      \"column\": \"income\",\n      \"properties\": {\n        \"dtype\": \"number\",\n        \"std\": 83917.26957154111,\n        \"min\": 348.67,\n        \"max\": 258900.7,\n        \"num_unique_values\": 8,\n        \"samples\": [\n          39806.926771,\n          33170.604999999996,\n          10000.0\n        ],\n        \"semantic_type\": \"\",\n        \"description\": \"\"\n      }\n    },\n    {\n      \"column\": \"monthlycharge\",\n      \"properties\": {\n        \"dtype\": \"number\",\n        \"std\": 3481.0882838546563,\n        \"min\": 42.94309410754452,\n        \"max\": 10000.0,\n        \"num_unique_values\": 8,\n        \"samples\": [\n          172.6248162079,\n          167.4847,\n          10000.0\n        ],\n        \"semantic_type\": \"\",\n        \"description\": \"\"\n      }\n    },\n    {\n      \"column\": \"bandwidth_gb_year\",\n      \"properties\": {\n        \"dtype\": \"number\",\n        \"std\": 3272.6164491874692,\n        \"min\": 155.5067148,\n        \"max\": 10000.0,\n        \"num_unique_values\": 8,\n        \"samples\": [\n          3392.34154973529,\n          3279.536903,\n          10000.0\n        ],\n        \"semantic_type\": \"\",\n        \"description\": \"\"\n      }\n    }\n  ]\n}"
            }
          },
          "metadata": {},
          "execution_count": 5
        }
      ]
    },
    {
      "cell_type": "markdown",
      "source": [
        "\n",
        "###DATA PREPROCESSING\n",
        "\n",
        "A critical data preprocessing goal for the k-means clustering analysis is data normalization (scaling). Since k-means clustering relies on calculating distances between data points, it is important to ensure that all features have the same scale. The selected features—\"Age,\" \"Income,\" \"MonthlyCharge,\" and \"Bandwidth_GB_Year\"—have different ranges, which could cause features with larger values, such as \"Income\" or \"Bandwidth_GB_Year,\" to dominate the clustering process. Normalizing the data ensures that each feature contributes equally to the calculation of distances, resulting in more meaningful and well-separated clusters. For this purpose, a standard scaler or min-max scaler can be applied to transform the features into a common scale, improving the clustering performance and making the results more interpretable.\n"
      ],
      "metadata": {
        "id": "_x-83Ya9knZh"
      }
    },
    {
      "cell_type": "markdown",
      "source": [
        "\n",
        "###DATA SET VARIABLES\n",
        "\n",
        "1. Age - Continuous: Represents the age of each customer. This variable helps in understanding the demographic profile of different clusters.\n",
        "\n",
        "2. Income - Continuous: Represents the annual income of each customer. This variable is crucial for determining the economic characteristics of the customer segments.\n",
        "\n",
        "3. MonthlyCharge - Continuous: Represents the monthly charge paid by each customer. This variable captures the spending behavior of customers with respect to the services they use.\n",
        "\n",
        "4. Bandwidth_GB_Year - Continuous: Represents the yearly bandwidth usage in gigabytes. This variable is used to understand customer service consumption and data usage behavior.\n",
        "\n",
        "All the selected variables are continuous, allowing them to be effectively used for k-means clustering, which relies on numerical distance calculations to create groups with similar characteristics.\n"
      ],
      "metadata": {
        "id": "Oed7MCbbktnb"
      }
    },
    {
      "cell_type": "code",
      "source": [
        "# Import StandardScaler for normalization\n",
        "from sklearn.preprocessing import StandardScaler\n",
        "\n",
        "# Create an instance of the StandardScaler\n",
        "scaler = StandardScaler()\n",
        "\n",
        "# Fit the scaler to the data and transform it\n",
        "scaled_df = scaler.fit_transform(df)\n",
        "\n",
        "# Convert the scaled data back to a DataFrame\n",
        "scaled_df = pd.DataFrame(scaled_df, columns=df.columns)\n",
        "\n",
        "# Display the scaled data\n",
        "print(scaled_df.head())"
      ],
      "metadata": {
        "colab": {
          "base_uri": "https://localhost:8080/"
        },
        "id": "XGw2jBDdHZu8",
        "outputId": "e225ba71-8ed6-48fe-a92d-0370c0ebd07f"
      },
      "execution_count": null,
      "outputs": [
        {
          "output_type": "stream",
          "name": "stdout",
          "text": [
            "        age    income  monthlycharge  bandwidth_gb_year\n",
            "0  0.720925 -0.398778      -0.003943          -1.138487\n",
            "1 -1.259957 -0.641954       1.630326          -1.185876\n",
            "2 -0.148730 -1.070885      -0.295225          -0.612138\n",
            "3 -0.245359 -0.740525      -1.226521          -0.561857\n",
            "4  1.445638  0.009478      -0.528086          -1.428184\n"
          ]
        }
      ]
    },
    {
      "cell_type": "code",
      "source": [
        "scaled_df.to_csv('T1_analysis.csv', index = False)"
      ],
      "metadata": {
        "id": "DyDhCaEX7FWf"
      },
      "execution_count": null,
      "outputs": []
    },
    {
      "cell_type": "markdown",
      "source": [
        "###OUTPUT AND INTERMEDIATE CALCULATIONS\n",
        "\n",
        "The optimal number of clusters for the dataset was determined to be 7 using a combination of the Elbow Method and Silhouette Analysis. The elbow method was employed by plotting the inertia (i.e., the sum of squared distances from each data point to its assigned cluster center) against the number of clusters (k). As k increased, inertia decreased, but after k=7, the reduction in inertia diminished, indicating an \"elbow point,\" which suggested that adding more clusters would yield diminishing returns. Additionally, silhouette analysis was performed to assess the cohesion and separation of clusters for different values of k. A silhouette score of 0.251 for k=7 indicated a reasonable balance between compactness within clusters and distinct separation between them. Thus, based on these two approaches, k=7 was selected as the optimal number of clusters, as it offered the best trade-off between inertia reduction and cluster quality.\n"
      ],
      "metadata": {
        "id": "oaLaoS7Bk-sO"
      }
    },
    {
      "cell_type": "code",
      "source": [
        "inertia = []\n",
        "for i in range(1,11):\n",
        "    kmeans = KMeans(n_clusters = i, n_init = 10, random_state = 42)\n",
        "    kmeans.fit(scaled_df)\n",
        "    inertia.append(kmeans.inertia_)\n",
        "\n",
        "#Plotting elbow graph\n",
        "plt.plot(range(1,11), inertia, 'o-', linewidth=2, color='blue')\n",
        "plt.xlabel('K (Number of Clusters)')\n",
        "plt.ylabel('Inertia')\n",
        "plt.show()"
      ],
      "metadata": {
        "colab": {
          "base_uri": "https://localhost:8080/",
          "height": 449
        },
        "id": "EsTFT7eR7jT-",
        "outputId": "4547476a-489a-4fa9-d18a-d3de532bedab"
      },
      "execution_count": null,
      "outputs": [
        {
          "output_type": "display_data",
          "data": {
            "text/plain": [
              "<Figure size 640x480 with 1 Axes>"
            ],
            "image/png": "[encoded data removed]"
          },
          "metadata": {}
        }
      ]
    },
    {
      "cell_type": "code",
      "source": [
        "# Proceed with k-means clustering using the normalized data\n",
        "kmeans = KMeans(n_clusters=7, random_state=42)\n",
        "kmeans.fit(scaled_df)\n",
        "\n",
        "# Labels and cluster centers after scaling\n",
        "print(kmeans.labels_)\n",
        "print(kmeans.cluster_centers_)"
      ],
      "metadata": {
        "colab": {
          "base_uri": "https://localhost:8080/"
        },
        "id": "cpQiRlmDKK9c",
        "outputId": "cc872537-ad8b-4def-f87a-d5db015490c1"
      },
      "execution_count": null,
      "outputs": [
        {
          "output_type": "stream",
          "name": "stdout",
          "text": [
            "[4 5 2 ... 6 1 1]\n",
            "[[ 0.05455287  2.21274837 -0.12300146 -0.02868861]\n",
            " [-0.02135664 -0.18098169  1.35436299  1.06073698]\n",
            " [-0.91899935 -0.21958655 -0.47348975 -0.95758734]\n",
            " [ 0.95990481 -0.25401212 -0.43711712  0.89741603]\n",
            " [ 0.89948283 -0.27142891 -0.46072133 -1.01373758]\n",
            " [-0.01849566 -0.17763845  1.33488136 -0.85943972]\n",
            " [-0.87165411 -0.23217374 -0.49168686  0.95786249]]\n"
          ]
        }
      ]
    },
    {
      "cell_type": "code",
      "source": [
        "#silhouette score\n",
        "silhouette_scores = []\n",
        "for i in range(2,11):\n",
        "    clusters = KMeans(n_clusters = i).fit_predict(scaled_df)\n",
        "    sil_avg = silhouette_score(df, clusters)\n",
        "    silhouette_scores.append(sil_avg)\n",
        "    print(\"For n_clusters = {}, silhouette score is {}\".format(i, sil_avg))\n",
        "\n",
        "plt.plot(range(2,11), silhouette_scores, 'bx-')\n",
        "plt.xlabel('Number of Clusters')\n",
        "plt.ylabel('Silhouette Score')\n",
        "plt.title('Silhouette Score vs Number of Clusters')\n",
        "plt.show()"
      ],
      "metadata": {
        "colab": {
          "base_uri": "https://localhost:8080/",
          "height": 628
        },
        "id": "EK1nMNyF80fO",
        "outputId": "e9c96568-9914-46e8-aa09-16d955c9c972"
      },
      "execution_count": null,
      "outputs": [
        {
          "output_type": "stream",
          "name": "stdout",
          "text": [
            "For n_clusters = 2, silhouette score is -0.00014899844128318102\n",
            "For n_clusters = 3, silhouette score is 0.11969531262875033\n",
            "For n_clusters = 4, silhouette score is -0.014653927959165917\n",
            "For n_clusters = 5, silhouette score is 0.04756447101675651\n",
            "For n_clusters = 6, silhouette score is 0.025946293921167728\n",
            "For n_clusters = 7, silhouette score is 0.020751115441880335\n",
            "For n_clusters = 8, silhouette score is -0.05293345710756448\n",
            "For n_clusters = 9, silhouette score is -0.10647273495710784\n",
            "For n_clusters = 10, silhouette score is -0.11989874960118231\n"
          ]
        },
        {
          "output_type": "display_data",
          "data": {
            "text/plain": [
              "<Figure size 640x480 with 1 Axes>"
            ],
            "image/png": "[encoded data removed]"
          },
          "metadata": {}
        }
      ]
    },
    {
      "cell_type": "code",
      "source": [
        "#calculate inertia\n",
        "inertia = kmeans.inertia_\n",
        "\n",
        "#silhouette score\n",
        "silhouette_avg = silhouette_score(scaled_df, kmeans.labels_)\n",
        "\n",
        "#calculate davies bouldin score\n",
        "davies_bouldin = davies_bouldin_score(scaled_df, kmeans.labels_)\n",
        "\n",
        "#print results\n",
        "print(\"Inertia: \", inertia)\n",
        "print(\"Silhouette Score: \", silhouette_avg)\n",
        "print(\"Davies Bouldin Score: \", davies_bouldin)"
      ],
      "metadata": {
        "colab": {
          "base_uri": "https://localhost:8080/"
        },
        "id": "b3BcWDZU9L2G",
        "outputId": "29321f20-1428-42a2-b130-c4c9868cf706"
      },
      "execution_count": null,
      "outputs": [
        {
          "output_type": "stream",
          "name": "stdout",
          "text": [
            "Inertia:  15250.785625448772\n",
            "Silhouette Score:  0.25099607157779597\n",
            "Davies Bouldin Score:  1.1654460467447323\n"
          ]
        }
      ]
    },
    {
      "cell_type": "markdown",
      "source": [
        "\n",
        "###RESULTS AND IMPLICATIONS\n",
        "\n",
        "The clustering analysis, using k=7 clusters, provided meaningful insights into segmenting customers based on their demographics and service usage patterns. The selected variables—Age, Income, MonthlyCharge, and Bandwidth_GB_Year—enabled the identification of distinct customer segments, each characterized by different behaviors and attributes. Below, I present the cluster centroids and discuss the implications for each of the resulting clusters.\n",
        "\n",
        "The centroids for each of the seven clusters represent the average values of each variable for the customers in that cluster. The centroids are as follows:\n",
        "1. Cluster 1:\n",
        " - Age: 0.055\n",
        " - Income: 2.213\n",
        " - MonthlyCharge: -0.123\n",
        " - Bandwidth_GB_Year: -0.029\n",
        " - Implications: This cluster is characterized by high-income individuals with average age and lower bandwidth usage. These customers may be good targets for premium offerings and value-added services that fit their spending capacity.\n",
        "\n",
        "2. Cluster 2:\n",
        " - Age: -0.021\n",
        " - Income: -0.181\n",
        " - MonthlyCharge: 1.354\n",
        " - Bandwidth_GB_Year: 1.061\n",
        " - Implications: This cluster includes individuals with moderate income who have high monthly charges and high bandwidth usage. They are likely to be heavy users of services and could be ideal for loyalty programs or bundled offers to enhance engagement and ensure customer retention.\n",
        "\n",
        "3. Cluster 3:\n",
        " - Age: -0.919\n",
        " - Income: -0.220\n",
        " - MonthlyCharge: -0.473\n",
        " - Bandwidth_GB_Year: -0.958\n",
        " - Implications: This group is composed of younger, lower-income customers with low monthly charges and low bandwidth usage. Cost-sensitive plans and budget-friendly service packages could be promoted to this cluster to increase adoption and usage.\n",
        "\n",
        "4. Cluster 4:\n",
        " - Age: 0.960\n",
        " - Income: -0.254\n",
        " - MonthlyCharge: -0.437\n",
        " - Bandwidth_GB_Year: 0.897\n",
        " - Implications: These are older customers with low to moderate income who exhibit high bandwidth usage but prefer lower monthly charges. They could benefit from targeted offers on data plans or upgrades to better value-for-money packages.\n",
        "\n",
        "5. Cluster 5:\n",
        " - Age: 0.899\n",
        " - Income: -0.271\n",
        " - MonthlyCharge: -0.461\n",
        " - Bandwidth_GB_Year: -1.014\n",
        " - Implications: This group consists of older individuals with low bandwidth usage and low monthly charges. Retention strategies could involve loyalty discounts to prevent them from switching to cheaper alternatives.\n",
        "\n",
        "6. Cluster 6:\n",
        " - Age: -0.018\n",
        " - Income: -0.178\n",
        " - MonthlyCharge: 1.335\n",
        " - Bandwidth_GB_Year: -0.859\n",
        " - Implications: These customers have moderate income and high monthly charges but low bandwidth usage. These individuals could be targeted with more customized plans that provide value for their higher monthly expenditures while also promoting additional services to increase usage.\n",
        "\n",
        "7. Cluster 7:\n",
        " - Age: -0.872\n",
        " - Income: -0.232\n",
        " - MonthlyCharge: -0.492\n",
        " - Bandwidth_GB_Year: 0.958\n",
        " - Implications: This cluster is made up of younger individuals with low income who are heavy bandwidth users. Promotional campaigns focusing on data bundles or affordable high-speed plans would be most suitable for this group.\n",
        "\n",
        "These cluster centroids provide a foundation for targeted marketing, personalization of services, and customer retention strategies. Each cluster is characterized by unique patterns of demographics and service usage that can be leveraged to tailor offerings. The segmentation allows the business to address the diverse needs of its customer base more effectively by developing strategies that resonate with the distinct preferences of each group, thus maximizing customer satisfaction and loyalty. Although the metrics indicate moderate quality in terms of cluster separation, the centroids reveal meaningful insights that can be immediately applied to improve targeted engagement and service offerings. Further refinement through re-clustering or adding new features could enhance the overall segmentation and improve the quality of future analyses."
      ],
      "metadata": {
        "id": "kKV5dz6blDvl"
      }
    },
    {
      "cell_type": "markdown",
      "source": [
        "\n",
        "###LIMITATION\n",
        "\n",
        "One significant limitation of the data analysis using k-means is the assumption of spherical clusters and equal cluster sizes. The k-means algorithm operates by minimizing the variance within clusters and relies on calculating distances from each point to the nearest cluster centroid, assuming that each cluster is roughly spherical and of similar size. This can be problematic in cases where the actual distribution of data does not align with these assumptions.\n",
        "\n",
        "In this analysis, if the customer data contains complex relationships—such as elongated, non-spherical clusters or clusters of varying densities—k-means may not adequately capture the true structure of the data. As a result, clusters may overlap or fail to accurately represent certain subgroups within the dataset. This limitation can impact the effectiveness of the segmentation, leading to suboptimal or misleading insights when targeting customers for marketing or service personalization. To overcome this limitation, exploring more advanced clustering techniques, such as Gaussian Mixture Models (GMM) or hierarchical clustering, may be beneficial, as these methods do not rely on the assumption of spherical clusters and are more flexible in adapting to varied data distributions.\n"
      ],
      "metadata": {
        "id": "8j0ehNWul0wP"
      }
    },
    {
      "cell_type": "markdown",
      "source": [
        "\n",
        "###COURSE OF ACTION\n",
        "\n",
        "Based on the clustering analysis conducted, I recommend the following course of action for the organization to leverage the insights gained from segmenting customers into seven distinct clusters. Each cluster's unique centroid characteristics can guide specific strategies:\n",
        "\n",
        "1. Develop Targeted Marketing Campaigns:\n",
        " - Cluster-Specific Marketing: Utilize the characteristics of each cluster to create tailored marketing campaigns. For instance:\n",
        "    - Cluster 1 (high-income, low bandwidth usage): Target this segment with premium service offerings and value-added features, focusing on convenience and exclusivity.\n",
        "    \n",
        "    - Cluster 2 (moderate income, high usage): Offer bundled packages and loyalty incentives to retain these heavy users.\n",
        "    \n",
        "    - Cluster 3 (low income, low usage): Create budget-friendly and introductory plans to attract and retain this cost-sensitive group.\n",
        "\n",
        " - Customizing the marketing campaigns based on the cluster profiles will help in increasing customer engagement and maximizing revenue by effectively matching offers to customer needs.\n",
        "\n",
        "2. Personalize Customer Retention Strategies:\n",
        " - Retention Focus: Tailor retention efforts according to each cluster’s unique attributes:\n",
        "\n",
        "    - Cluster 4 (older customers with high bandwidth usage): Provide value-for-money data plans and personalized offers to retain their loyalty.\n",
        "\n",
        "    - Cluster 5 (older, low usage): Implement loyalty discounts to prevent churn among these low-usage customers.\n",
        "\n",
        "    - Cluster 6 (moderate income, high monthly charges, low usage): Focus on retention through tailored packages that provide better perceived value for their monthly expenditure.\n",
        "\n",
        " - By focusing on personalized retention strategies, the organization can reduce churn and strengthen customer loyalty, ensuring each segment feels their specific needs are met.\n",
        "\n",
        "3. Service Optimization:\n",
        "\n",
        " - Optimizing Resource Allocation: Analyze the service needs of each cluster and align resources accordingly:\n",
        "\n",
        "    - Cluster 7 (younger, low income, high bandwidth usage): Promote affordable high-speed plans and data bundles tailored to their high usage at a cost-effective rate.\n",
        "\n",
        "    - Cluster 3 and Cluster 5 (low usage): Offer basic and affordable packages to align with their budgetary constraints and usage patterns.\n",
        "\n",
        " - This alignment ensures customers receive services best suited to their needs, thereby improving satisfaction and optimizing the allocation of resources without overextending or underutilizing them.\n",
        "\n",
        "4. Continuous Monitoring and Refinement:\n",
        "\n",
        " - Ongoing Analysis and Improvement: Given the moderate silhouette score and some overlap among clusters, the organization should continuously monitor the clusters and refine the strategies as more data becomes available. Regular re-clustering using new data and experimentation with more advanced clustering methods (such as Gaussian Mixture Models or hierarchical clustering) could improve the quality and distinctiveness of the clusters over time.\n",
        "\n",
        " - Periodic Reassessment: Reassessing the clustering every few months will help accommodate changes in customer behavior, ensuring segmentation remains relevant and actionable.\n",
        "\n",
        "By implementing these strategies, the organization can utilize the segmentation insights for targeted customer engagement, enhanced satisfaction, and effective resource management, ultimately improving customer retention and maximizing profitability. The tailored approach ensures that each segment receives communication and offerings that align with their unique characteristics, thereby fostering stronger customer relationships and optimizing business outcomes.\n"
      ],
      "metadata": {
        "id": "ckNMcchkl7SJ"
      }
    }
  ]
}