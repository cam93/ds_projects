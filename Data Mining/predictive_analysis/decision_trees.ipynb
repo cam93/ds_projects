{
  "nbformat": 4,
  "nbformat_minor": 0,
  "metadata": {
    "colab": {
      "provenance": []
    },
    "kernelspec": {
      "name": "python3",
      "display_name": "Python 3"
    },
    "language_info": {
      "name": "python"
    }
  },
  "cells": [
    {
      "cell_type": "markdown",
      "source": [
        "\n",
        "#PROPOSAL OF QUESTION\n",
        "\n",
        "The research question I will be investigating is: What factors contribute most to customer tenure? Understanding the key drivers behind customer tenure can provide valuable insights to a company, helping it develop strategies to retain customers for the long term. The benefit of this analysis is that by identifying the primary factors that influence tenure, a company can design tailored incentives or introduce product enhancements that encourage long-term customer relationships. Reducing customer churn and extending tenure lead directly to cost savings, as the organization can focus less on expensive customer acquisition strategies. For this project, I will answer the question by applying decision tree analysis. This method will allow me to assess the hierarchy and interaction of various customer attributes—such as monthly charges, service usage, and product preferences—and pinpoint which factors play the most significant roles in customer retention. The goal is to uncover actionable insights for optimizing retention strategies and maximizing the long-term value of existing customers, potentially enhancing overall business performance."
      ],
      "metadata": {
        "id": "9Ml40zkdJ1Ui"
      }
    },
    {
      "cell_type": "markdown",
      "source": [
        "\n",
        "#DEFINED GOAL\n",
        "\n",
        "The goal of this data analysis is to identify the most influential factors that impact customer tenure using the DecisionTreeRegressor from the sklearn library. By focusing on variables that were used in previous models, we aim to uncover the key characteristics that contribute to how long customers remain with the company. Our primary objective is to predict potential churning points by analyzing these factors, which will allow for more proactive and targeted customer service interventions. Through predictive modeling, we can better anticipate customer behavior, enabling the company to customize services, offers, or incentives that encourage long-term retention. Identifying these important factors also helps improve resource allocation and strategic planning, allowing the company to focus its efforts on the highest impact areas, ultimately bolstering customer satisfaction, retention, and solidifying our competitive advantage in the industry.\n"
      ],
      "metadata": {
        "id": "8pWBNdzLJ7Yk"
      }
    },
    {
      "cell_type": "markdown",
      "source": [
        "\n",
        "###EXPLANATION OF PREDICTION\n",
        "\n",
        "For this task, I chose to use decision trees as the primary method for predicting customer tenure. The decision tree algorithm offers several key advantages, making it suitable for this analysis. Firstly, it is highly interpretable and allows for easy visualization of the results. This means that the decision-making process behind each prediction is transparent and can be easily explained to non-technical stakeholders. Decision trees can handle both numerical and categorical data, which is beneficial given the mixed data types present in this dataset, such as monthly charges (numerical) and service preferences (categorical). The core strength of decision trees lies in their ability to segment the data based on the most significant variables, creating a flow of \"if-then\" conditions that lead to a prediction. This structure makes it easy to see which variables (e.g., service usage or monthly fees) have the most substantial influence on customer tenure. Each branch of the tree represents a decision based on a specific feature, and the paths lead to different outcomes or predictions about tenure. The ability to visualize the final model helps in identifying clear patterns and trends within the data.\n",
        "\n",
        "One reason I chose decision trees over more complex methods, like random forests, is the simplicity of interpretation. A single decision tree can be fully visualized, providing a clear understanding of how different customer characteristics impact tenure. This transparency is critical when communicating findings to stakeholders who may prioritize actionable insights over model complexity. However, decision trees are prone to overfitting, especially when applied to small datasets, as they tend to capture noise and anomalies in the data. This may lead to less accurate predictions. While random forests—an ensemble method combining multiple decision trees—can mitigate overfitting and often provide more accurate results, I chose decision trees because the goal is to identify and clearly explain the most important factors influencing tenure. In cases where prediction accuracy is prioritized over interpretability, a random forest would indeed be more suitable, but in this scenario, the decision tree's ease of use and visual clarity outweigh its limitations.\n",
        "\n",
        "The expected outcomes of this analysis will include a clear understanding of which customer attributes have the most significant impact on tenure, enabling the company to make data-driven decisions to enhance customer retention. The decision tree will highlight potential points of customer churn, helping in designing strategies to keep customers engaged for a longer duration.\n"
      ],
      "metadata": {
        "id": "H86WW5ocLGvU"
      }
    },
    {
      "cell_type": "markdown",
      "source": [
        "\n",
        "###SUMMARY OF METHOD ASSUMPTION\n",
        "\n",
        "One key assumption of decision tree models is the assumption of feature independence. This means that the model treats each feature individually when making splits at each node, assuming that there is no inherent relationship or correlation between the features. In other words, it assumes that the predictive power of one feature is not influenced by the presence or value of another feature. However, in real-world datasets, this assumption often does not hold true. Features may exhibit high correlation with one another, yet decision trees can still perform effectively even in the presence of these correlations. For example, customer-related variables like monthly charges and bandwidth usage might be correlated, but the decision tree will still analyze them separately when determining how to split the data. Despite this, the model can still achieve good predictive accuracy, as decision trees inherently handle complex, non-linear relationships between variables. While decision trees don’t explicitly account for feature interactions during the split process, their hierarchical structure can still capture complex interactions implicitly, which is why they remain robust even when the assumption of independence is violated. This flexibility makes decision trees a versatile tool for real-world predictive modeling tasks, even in cases where feature interdependence is present.\n"
      ],
      "metadata": {
        "id": "F1X3MU2uMsSD"
      }
    },
    {
      "cell_type": "code",
      "execution_count": null,
      "metadata": {
        "id": "3SjJNm7nliul",
        "colab": {
          "base_uri": "https://localhost:8080/"
        },
        "outputId": "b2a48380-b914-4422-9d75-27d4b289315a"
      },
      "outputs": [
        {
          "output_type": "stream",
          "name": "stdout",
          "text": [
            "Drive already mounted at /content/drive; to attempt to forcibly remount, call drive.mount(\"/content/drive\", force_remount=True).\n"
          ]
        }
      ],
      "source": [
        "#mount google drive\n",
        "from google.colab import drive\n",
        "drive.mount('/content/drive')"
      ]
    },
    {
      "cell_type": "code",
      "source": [
        "import os\n",
        "os.chdir('/content/drive/My Drive/D209')"
      ],
      "metadata": {
        "id": "mgjojBQ5tPj8"
      },
      "execution_count": null,
      "outputs": []
    },
    {
      "cell_type": "markdown",
      "source": [
        "\n",
        "###PACKAGES OR LIBRARIES LIST\n",
        "\n",
        "The following Python libraries have been chosen for this analysis, each serving a specific purpose to support the modeling and evaluation process:\n",
        "\n",
        "1. Pandas (pd): This library is essential for data manipulation and analysis. It allows for efficient handling of structured data, such as importing the dataset, exploring its contents, and performing operations like filtering, aggregating, and transforming the data. In this analysis, Pandas will help clean and prepare the dataset for modeling.\n",
        "\n",
        "2. NumPy (np): NumPy is a fundamental package for numerical computing in Python. It provides support for working with arrays and offers a variety of mathematical functions. This library is used to handle numerical operations on the dataset and is particularly useful for manipulating data into arrays and performing mathematical computations, which are essential for model training.\n",
        "\n",
        "3. Seaborn (sns): Seaborn is a powerful data visualization library built on top of Matplotlib. It simplifies the creation of informative and aesthetically pleasing visualizations. Seaborn will be used to create exploratory data visualizations such as correlation heatmaps or distribution plots, helping to better understand the relationships between variables and the structure of the data.\n",
        "\n",
        "4. Matplotlib (plt): Matplotlib is a versatile plotting library used for creating static, animated, and interactive visualizations. In this analysis, Matplotlib will be used alongside Seaborn to plot decision trees, visualize model performance, and produce customized charts to better explain the outcomes of the analysis.\n",
        "\n",
        "5. Scikit-learn (train_test_split, GridSearchCV, r2_score, accuracy_score, mse, DecisionTreeRegressor, tree): Scikit-learn is the core machine learning library in Python, providing tools for building and evaluating models.\n",
        " - train_test_split: This function helps in splitting the data into training and testing sets to validate the model’s performance.\n",
        "\n",
        " - GridSearchCV: This tool is used to fine-tune the model’s hyperparameters, ensuring that the decision tree is optimized for better performance.\n",
        "\n",
        " - r2_score, accuracy_score, mse: These metrics are used to evaluate the performance of the model. They help assess the goodness of fit, accuracy, and error in predicting customer tenure.\n",
        "\n",
        " - DecisionTreeRegressor: This is the main algorithm used to create the regression model, predicting the factors contributing to customer tenure.\n",
        "\n",
        " - tree: The tree module is used to visualize the structure of the decision tree, enabling easy interpretation of the model’s decision-making process."
      ],
      "metadata": {
        "id": "bmfUHEswNJf2"
      }
    },
    {
      "cell_type": "code",
      "source": [
        "#Import Libraries\n",
        "import pandas as pd\n",
        "import numpy as np\n",
        "import seaborn as sns\n",
        "import matplotlib.pyplot as plt\n",
        "from sklearn.model_selection import train_test_split, GridSearchCV\n",
        "from sklearn.metrics import r2_score, accuracy_score, mean_squared_error as mse\n",
        "from sklearn.tree import DecisionTreeRegressor\n",
        "from sklearn import tree\n",
        "\n",
        "df = pd.read_csv('/content/drive/My Drive/D209/churn_clean.csv', usecols=['Children', 'Age', 'OnlineSecurity', 'Tenure', 'MonthlyCharge', 'Bandwidth_GB_Year'])\n",
        "df.head()"
      ],
      "metadata": {
        "id": "Jq1yE644tUqA",
        "colab": {
          "base_uri": "https://localhost:8080/",
          "height": 206
        },
        "outputId": "c84e95cf-aa6f-47e6-9219-bd398a919421"
      },
      "execution_count": null,
      "outputs": [
        {
          "output_type": "execute_result",
          "data": {
            "text/plain": [
              "   Children  Age OnlineSecurity     Tenure  MonthlyCharge  Bandwidth_GB_Year\n",
              "0         0   68            Yes   6.795513     172.455519         904.536110\n",
              "1         1   27            Yes   1.156681     242.632554         800.982766\n",
              "2         4   50             No  15.754144     159.947583        2054.706961\n",
              "3         1   48            Yes  17.087227     119.956840        2164.579412\n",
              "4         0   83             No   1.670972     149.948316         271.493436"
            ],
            "text/html": [
              "\n",
              "  <div id=\"df-31f2bdbe-e418-42a0-8985-9966e31aaca6\" class=\"colab-df-container\">\n",
              "    <div>\n",
              "<style scoped>\n",
              "    .dataframe tbody tr th:only-of-type {\n",
              "        vertical-align: middle;\n",
              "    }\n",
              "\n",
              "    .dataframe tbody tr th {\n",
              "        vertical-align: top;\n",
              "    }\n",
              "\n",
              "    .dataframe thead th {\n",
              "        text-align: right;\n",
              "    }\n",
              "</style>\n",
              "<table border=\"1\" class=\"dataframe\">\n",
              "  <thead>\n",
              "    <tr style=\"text-align: right;\">\n",
              "      <th></th>\n",
              "      <th>Children</th>\n",
              "      <th>Age</th>\n",
              "      <th>OnlineSecurity</th>\n",
              "      <th>Tenure</th>\n",
              "      <th>MonthlyCharge</th>\n",
              "      <th>Bandwidth_GB_Year</th>\n",
              "    </tr>\n",
              "  </thead>\n",
              "  <tbody>\n",
              "    <tr>\n",
              "      <th>0</th>\n",
              "      <td>0</td>\n",
              "      <td>68</td>\n",
              "      <td>Yes</td>\n",
              "      <td>6.795513</td>\n",
              "      <td>172.455519</td>\n",
              "      <td>904.536110</td>\n",
              "    </tr>\n",
              "    <tr>\n",
              "      <th>1</th>\n",
              "      <td>1</td>\n",
              "      <td>27</td>\n",
              "      <td>Yes</td>\n",
              "      <td>1.156681</td>\n",
              "      <td>242.632554</td>\n",
              "      <td>800.982766</td>\n",
              "    </tr>\n",
              "    <tr>\n",
              "      <th>2</th>\n",
              "      <td>4</td>\n",
              "      <td>50</td>\n",
              "      <td>No</td>\n",
              "      <td>15.754144</td>\n",
              "      <td>159.947583</td>\n",
              "      <td>2054.706961</td>\n",
              "    </tr>\n",
              "    <tr>\n",
              "      <th>3</th>\n",
              "      <td>1</td>\n",
              "      <td>48</td>\n",
              "      <td>Yes</td>\n",
              "      <td>17.087227</td>\n",
              "      <td>119.956840</td>\n",
              "      <td>2164.579412</td>\n",
              "    </tr>\n",
              "    <tr>\n",
              "      <th>4</th>\n",
              "      <td>0</td>\n",
              "      <td>83</td>\n",
              "      <td>No</td>\n",
              "      <td>1.670972</td>\n",
              "      <td>149.948316</td>\n",
              "      <td>271.493436</td>\n",
              "    </tr>\n",
              "  </tbody>\n",
              "</table>\n",
              "</div>\n",
              "    <div class=\"colab-df-buttons\">\n",
              "\n",
              "  <div class=\"colab-df-container\">\n",
              "    <button class=\"colab-df-convert\" onclick=\"convertToInteractive('df-31f2bdbe-e418-42a0-8985-9966e31aaca6')\"\n",
              "            title=\"Convert this dataframe to an interactive table.\"\n",
              "            style=\"display:none;\">\n",
              "\n",
              "  <svg xmlns=\"http://www.w3.org/2000/svg\" height=\"24px\" viewBox=\"0 -960 960 960\">\n",
              "    <path d=\"M120-120v-720h720v720H120Zm60-500h600v-160H180v160Zm220 220h160v-160H400v160Zm0 220h160v-160H400v160ZM180-400h160v-160H180v160Zm440 0h160v-160H620v160ZM180-180h160v-160H180v160Zm440 0h160v-160H620v160Z\"/>\n",
              "  </svg>\n",
              "    </button>\n",
              "\n",
              "  <style>\n",
              "    .colab-df-container {\n",
              "      display:flex;\n",
              "      gap: 12px;\n",
              "    }\n",
              "\n",
              "    .colab-df-convert {\n",
              "      background-color: #E8F0FE;\n",
              "      border: none;\n",
              "      border-radius: 50%;\n",
              "      cursor: pointer;\n",
              "      display: none;\n",
              "      fill: #1967D2;\n",
              "      height: 32px;\n",
              "      padding: 0 0 0 0;\n",
              "      width: 32px;\n",
              "    }\n",
              "\n",
              "    .colab-df-convert:hover {\n",
              "      background-color: #E2EBFA;\n",
              "      box-shadow: 0px 1px 2px rgba(60, 64, 67, 0.3), 0px 1px 3px 1px rgba(60, 64, 67, 0.15);\n",
              "      fill: #174EA6;\n",
              "    }\n",
              "\n",
              "    .colab-df-buttons div {\n",
              "      margin-bottom: 4px;\n",
              "    }\n",
              "\n",
              "    [theme=dark] .colab-df-convert {\n",
              "      background-color: #3B4455;\n",
              "      fill: #D2E3FC;\n",
              "    }\n",
              "\n",
              "    [theme=dark] .colab-df-convert:hover {\n",
              "      background-color: #434B5C;\n",
              "      box-shadow: 0px 1px 3px 1px rgba(0, 0, 0, 0.15);\n",
              "      filter: drop-shadow(0px 1px 2px rgba(0, 0, 0, 0.3));\n",
              "      fill: #FFFFFF;\n",
              "    }\n",
              "  </style>\n",
              "\n",
              "    <script>\n",
              "      const buttonEl =\n",
              "        document.querySelector('#df-31f2bdbe-e418-42a0-8985-9966e31aaca6 button.colab-df-convert');\n",
              "      buttonEl.style.display =\n",
              "        google.colab.kernel.accessAllowed ? 'block' : 'none';\n",
              "\n",
              "      async function convertToInteractive(key) {\n",
              "        const element = document.querySelector('#df-31f2bdbe-e418-42a0-8985-9966e31aaca6');\n",
              "        const dataTable =\n",
              "          await google.colab.kernel.invokeFunction('convertToInteractive',\n",
              "                                                    [key], {});\n",
              "        if (!dataTable) return;\n",
              "\n",
              "        const docLinkHtml = 'Like what you see? Visit the ' +\n",
              "          '<a target=\"_blank\" href=https://colab.research.google.com/notebooks/data_table.ipynb>data table notebook</a>'\n",
              "          + ' to learn more about interactive tables.';\n",
              "        element.innerHTML = '';\n",
              "        dataTable['output_type'] = 'display_data';\n",
              "        await google.colab.output.renderOutput(dataTable, element);\n",
              "        const docLink = document.createElement('div');\n",
              "        docLink.innerHTML = docLinkHtml;\n",
              "        element.appendChild(docLink);\n",
              "      }\n",
              "    </script>\n",
              "  </div>\n",
              "\n",
              "\n",
              "<div id=\"df-c16e7417-e15a-4e4b-98ea-9f0d38eae471\">\n",
              "  <button class=\"colab-df-quickchart\" onclick=\"quickchart('df-c16e7417-e15a-4e4b-98ea-9f0d38eae471')\"\n",
              "            title=\"Suggest charts\"\n",
              "            style=\"display:none;\">\n",
              "\n",
              "<svg xmlns=\"http://www.w3.org/2000/svg\" height=\"24px\"viewBox=\"0 0 24 24\"\n",
              "     width=\"24px\">\n",
              "    <g>\n",
              "        <path d=\"M19 3H5c-1.1 0-2 .9-2 2v14c0 1.1.9 2 2 2h14c1.1 0 2-.9 2-2V5c0-1.1-.9-2-2-2zM9 17H7v-7h2v7zm4 0h-2V7h2v10zm4 0h-2v-4h2v4z\"/>\n",
              "    </g>\n",
              "</svg>\n",
              "  </button>\n",
              "\n",
              "<style>\n",
              "  .colab-df-quickchart {\n",
              "      --bg-color: #E8F0FE;\n",
              "      --fill-color: #1967D2;\n",
              "      --hover-bg-color: #E2EBFA;\n",
              "      --hover-fill-color: #174EA6;\n",
              "      --disabled-fill-color: #AAA;\n",
              "      --disabled-bg-color: #DDD;\n",
              "  }\n",
              "\n",
              "  [theme=dark] .colab-df-quickchart {\n",
              "      --bg-color: #3B4455;\n",
              "      --fill-color: #D2E3FC;\n",
              "      --hover-bg-color: #434B5C;\n",
              "      --hover-fill-color: #FFFFFF;\n",
              "      --disabled-bg-color: #3B4455;\n",
              "      --disabled-fill-color: #666;\n",
              "  }\n",
              "\n",
              "  .colab-df-quickchart {\n",
              "    background-color: var(--bg-color);\n",
              "    border: none;\n",
              "    border-radius: 50%;\n",
              "    cursor: pointer;\n",
              "    display: none;\n",
              "    fill: var(--fill-color);\n",
              "    height: 32px;\n",
              "    padding: 0;\n",
              "    width: 32px;\n",
              "  }\n",
              "\n",
              "  .colab-df-quickchart:hover {\n",
              "    background-color: var(--hover-bg-color);\n",
              "    box-shadow: 0 1px 2px rgba(60, 64, 67, 0.3), 0 1px 3px 1px rgba(60, 64, 67, 0.15);\n",
              "    fill: var(--button-hover-fill-color);\n",
              "  }\n",
              "\n",
              "  .colab-df-quickchart-complete:disabled,\n",
              "  .colab-df-quickchart-complete:disabled:hover {\n",
              "    background-color: var(--disabled-bg-color);\n",
              "    fill: var(--disabled-fill-color);\n",
              "    box-shadow: none;\n",
              "  }\n",
              "\n",
              "  .colab-df-spinner {\n",
              "    border: 2px solid var(--fill-color);\n",
              "    border-color: transparent;\n",
              "    border-bottom-color: var(--fill-color);\n",
              "    animation:\n",
              "      spin 1s steps(1) infinite;\n",
              "  }\n",
              "\n",
              "  @keyframes spin {\n",
              "    0% {\n",
              "      border-color: transparent;\n",
              "      border-bottom-color: var(--fill-color);\n",
              "      border-left-color: var(--fill-color);\n",
              "    }\n",
              "    20% {\n",
              "      border-color: transparent;\n",
              "      border-left-color: var(--fill-color);\n",
              "      border-top-color: var(--fill-color);\n",
              "    }\n",
              "    30% {\n",
              "      border-color: transparent;\n",
              "      border-left-color: var(--fill-color);\n",
              "      border-top-color: var(--fill-color);\n",
              "      border-right-color: var(--fill-color);\n",
              "    }\n",
              "    40% {\n",
              "      border-color: transparent;\n",
              "      border-right-color: var(--fill-color);\n",
              "      border-top-color: var(--fill-color);\n",
              "    }\n",
              "    60% {\n",
              "      border-color: transparent;\n",
              "      border-right-color: var(--fill-color);\n",
              "    }\n",
              "    80% {\n",
              "      border-color: transparent;\n",
              "      border-right-color: var(--fill-color);\n",
              "      border-bottom-color: var(--fill-color);\n",
              "    }\n",
              "    90% {\n",
              "      border-color: transparent;\n",
              "      border-bottom-color: var(--fill-color);\n",
              "    }\n",
              "  }\n",
              "</style>\n",
              "\n",
              "  <script>\n",
              "    async function quickchart(key) {\n",
              "      const quickchartButtonEl =\n",
              "        document.querySelector('#' + key + ' button');\n",
              "      quickchartButtonEl.disabled = true;  // To prevent multiple clicks.\n",
              "      quickchartButtonEl.classList.add('colab-df-spinner');\n",
              "      try {\n",
              "        const charts = await google.colab.kernel.invokeFunction(\n",
              "            'suggestCharts', [key], {});\n",
              "      } catch (error) {\n",
              "        console.error('Error during call to suggestCharts:', error);\n",
              "      }\n",
              "      quickchartButtonEl.classList.remove('colab-df-spinner');\n",
              "      quickchartButtonEl.classList.add('colab-df-quickchart-complete');\n",
              "    }\n",
              "    (() => {\n",
              "      let quickchartButtonEl =\n",
              "        document.querySelector('#df-c16e7417-e15a-4e4b-98ea-9f0d38eae471 button');\n",
              "      quickchartButtonEl.style.display =\n",
              "        google.colab.kernel.accessAllowed ? 'block' : 'none';\n",
              "    })();\n",
              "  </script>\n",
              "</div>\n",
              "\n",
              "    </div>\n",
              "  </div>\n"
            ],
            "application/vnd.google.colaboratory.intrinsic+json": {
              "type": "dataframe",
              "variable_name": "df",
              "summary": "{\n  \"name\": \"df\",\n  \"rows\": 10000,\n  \"fields\": [\n    {\n      \"column\": \"Children\",\n      \"properties\": {\n        \"dtype\": \"number\",\n        \"std\": 2,\n        \"min\": 0,\n        \"max\": 10,\n        \"num_unique_values\": 11,\n        \"samples\": [\n          7,\n          0,\n          10\n        ],\n        \"semantic_type\": \"\",\n        \"description\": \"\"\n      }\n    },\n    {\n      \"column\": \"Age\",\n      \"properties\": {\n        \"dtype\": \"number\",\n        \"std\": 20,\n        \"min\": 18,\n        \"max\": 89,\n        \"num_unique_values\": 72,\n        \"samples\": [\n          83,\n          34,\n          75\n        ],\n        \"semantic_type\": \"\",\n        \"description\": \"\"\n      }\n    },\n    {\n      \"column\": \"OnlineSecurity\",\n      \"properties\": {\n        \"dtype\": \"category\",\n        \"num_unique_values\": 2,\n        \"samples\": [\n          \"No\",\n          \"Yes\"\n        ],\n        \"semantic_type\": \"\",\n        \"description\": \"\"\n      }\n    },\n    {\n      \"column\": \"Tenure\",\n      \"properties\": {\n        \"dtype\": \"number\",\n        \"std\": 26.44306262928721,\n        \"min\": 1.00025934,\n        \"max\": 71.99928,\n        \"num_unique_values\": 9996,\n        \"samples\": [\n          3.523994671,\n          21.42226\n        ],\n        \"semantic_type\": \"\",\n        \"description\": \"\"\n      }\n    },\n    {\n      \"column\": \"MonthlyCharge\",\n      \"properties\": {\n        \"dtype\": \"number\",\n        \"std\": 42.94309410754456,\n        \"min\": 79.97886,\n        \"max\": 290.160419,\n        \"num_unique_values\": 750,\n        \"samples\": [\n          162.4538,\n          222.665436\n        ],\n        \"semantic_type\": \"\",\n        \"description\": \"\"\n      }\n    },\n    {\n      \"column\": \"Bandwidth_GB_Year\",\n      \"properties\": {\n        \"dtype\": \"number\",\n        \"std\": 2185.2948524335848,\n        \"min\": 155.5067148,\n        \"max\": 7158.98153,\n        \"num_unique_values\": 10000,\n        \"samples\": [\n          4866.05903,\n          1716.442787\n        ],\n        \"semantic_type\": \"\",\n        \"description\": \"\"\n      }\n    }\n  ]\n}"
            }
          },
          "metadata": {},
          "execution_count": 3
        }
      ]
    },
    {
      "cell_type": "markdown",
      "source": [
        "\n",
        "###DATA SET VARIABLES\n",
        "\n",
        "The initial dataset variables used to perform the analysis for predicting customer tenure, with the dependent variable included, are as follows:\n",
        "\n",
        "Numeric Variables (Independent Variables):\n",
        "\n",
        "1. Children: Represents the number of children the customer has.\n",
        "\n",
        "2. Age: The age of the customer.\n",
        "\n",
        "3. MonthlyCharge: The monthly charge the customer pays.\n",
        "\n",
        "4. Bandwidth_GB_Year: The total bandwidth used by the customer in a year.\n",
        "\n",
        "5. OnlineSecurity: converted to a binary numeric format where:\n",
        "\n",
        " - 'Yes' = 1\n",
        "\n",
        " - 'No' = 0\n",
        "\n",
        "Dependent Variable (Target):\n",
        "\n",
        "1. Tenure: Represents the length of time (in months) the customer has been with the company. This is the variable we are trying to predict using the other features.\n",
        "\n",
        "The combination of these independent variables was used to model the Tenure of customers and identify key factors affecting it.\n"
      ],
      "metadata": {
        "id": "yPIi5ApqPTzs"
      }
    },
    {
      "cell_type": "code",
      "source": [
        "#rename columns to python casing\n",
        "col_head = {\n",
        "    'Children': 'children',\n",
        "    'Age': 'age',\n",
        "    'OnlineSecurity': 'online_security',\n",
        "    'Tenure': 'tenure',\n",
        "    'MonthlyCharge': 'monthly_charge',\n",
        "    'Bandwidth_GB_Year': 'bandwidth_gb_year'\n",
        "}\n",
        "df.rename(columns=col_head, inplace=True)"
      ],
      "metadata": {
        "id": "lYzBT1WK8lGn"
      },
      "execution_count": null,
      "outputs": []
    },
    {
      "cell_type": "code",
      "source": [
        "df.info()"
      ],
      "metadata": {
        "colab": {
          "base_uri": "https://localhost:8080/"
        },
        "id": "huSvXspN28px",
        "outputId": "04487b33-1be1-4536-c3fd-d15d838601f0"
      },
      "execution_count": null,
      "outputs": [
        {
          "output_type": "stream",
          "name": "stdout",
          "text": [
            "<class 'pandas.core.frame.DataFrame'>\n",
            "RangeIndex: 10000 entries, 0 to 9999\n",
            "Data columns (total 6 columns):\n",
            " #   Column             Non-Null Count  Dtype  \n",
            "---  ------             --------------  -----  \n",
            " 0   children           10000 non-null  int64  \n",
            " 1   age                10000 non-null  int64  \n",
            " 2   online_security    10000 non-null  object \n",
            " 3   tenure             10000 non-null  float64\n",
            " 4   monthly_charge     10000 non-null  float64\n",
            " 5   bandwidth_gb_year  10000 non-null  float64\n",
            "dtypes: float64(3), int64(2), object(1)\n",
            "memory usage: 468.9+ KB\n"
          ]
        }
      ]
    },
    {
      "cell_type": "code",
      "source": [
        "df['online_security'].value_counts()"
      ],
      "metadata": {
        "colab": {
          "base_uri": "https://localhost:8080/",
          "height": 178
        },
        "id": "TOc_vlyV3AuV",
        "outputId": "6e62678b-f019-4fab-d866-d651374b0329"
      },
      "execution_count": null,
      "outputs": [
        {
          "output_type": "execute_result",
          "data": {
            "text/plain": [
              "online_security\n",
              "No     6424\n",
              "Yes    3576\n",
              "Name: count, dtype: int64"
            ],
            "text/html": [
              "<div>\n",
              "<style scoped>\n",
              "    .dataframe tbody tr th:only-of-type {\n",
              "        vertical-align: middle;\n",
              "    }\n",
              "\n",
              "    .dataframe tbody tr th {\n",
              "        vertical-align: top;\n",
              "    }\n",
              "\n",
              "    .dataframe thead th {\n",
              "        text-align: right;\n",
              "    }\n",
              "</style>\n",
              "<table border=\"1\" class=\"dataframe\">\n",
              "  <thead>\n",
              "    <tr style=\"text-align: right;\">\n",
              "      <th></th>\n",
              "      <th>count</th>\n",
              "    </tr>\n",
              "    <tr>\n",
              "      <th>online_security</th>\n",
              "      <th></th>\n",
              "    </tr>\n",
              "  </thead>\n",
              "  <tbody>\n",
              "    <tr>\n",
              "      <th>No</th>\n",
              "      <td>6424</td>\n",
              "    </tr>\n",
              "    <tr>\n",
              "      <th>Yes</th>\n",
              "      <td>3576</td>\n",
              "    </tr>\n",
              "  </tbody>\n",
              "</table>\n",
              "</div><br><label><b>dtype:</b> int64</label>"
            ]
          },
          "metadata": {},
          "execution_count": 6
        }
      ]
    },
    {
      "cell_type": "markdown",
      "source": [
        "\n",
        "###DATA PREPROCESSING\n",
        "\n",
        "One key data preprocessing goal relevant to the decision tree prediction method is the conversion of categorical variables into numerical format. In this case, the OnlineSecurity feature, which initially contains categorical values ('Yes' and 'No'), was converted into numerical format by mapping 'Yes' to 1 and 'No' to 0. This step is essential because decision trees in Scikit-learn require numerical input for processing and making predictions. Converting categorical values into a binary format enables the decision tree to correctly evaluate the impact of features like OnlineSecurity on the target variable, Tenure. Additionally, renaming the columns to follow Python naming conventions (snake_case) ensures clarity and consistency throughout the code. This preprocessing ensures the dataset is in a usable format for the decision tree model, which relies on numerical data to evaluate the relationships between features and the target variable effectively."
      ],
      "metadata": {
        "id": "op7TXkbaNuXX"
      }
    },
    {
      "cell_type": "code",
      "source": [
        "#converting yes/no column to 1/0\n",
        "df['online_security'] = df['online_security'].map({'Yes': 1, 'No': 0})"
      ],
      "metadata": {
        "id": "b-ZmhAX94inM"
      },
      "execution_count": null,
      "outputs": []
    },
    {
      "cell_type": "code",
      "source": [
        "df.corr().abs().style.background_gradient(cmap='coolwarm')"
      ],
      "metadata": {
        "colab": {
          "base_uri": "https://localhost:8080/",
          "height": 237
        },
        "id": "aBjL1Zx14IjA",
        "outputId": "ef89ea67-a84a-4cf8-fd90-430f2b7e6aa4"
      },
      "execution_count": null,
      "outputs": [
        {
          "output_type": "execute_result",
          "data": {
            "text/plain": [
              "<pandas.io.formats.style.Styler at 0x7df8cbda9e10>"
            ],
            "text/html": [
              "<style type=\"text/css\">\n",
              "#T_b6f63_row0_col0, #T_b6f63_row1_col1, #T_b6f63_row2_col2, #T_b6f63_row3_col3, #T_b6f63_row4_col4, #T_b6f63_row5_col5 {\n",
              "  background-color: #b40426;\n",
              "  color: #f1f1f1;\n",
              "}\n",
              "#T_b6f63_row0_col1, #T_b6f63_row5_col2 {\n",
              "  background-color: #3f53c6;\n",
              "  color: #f1f1f1;\n",
              "}\n",
              "#T_b6f63_row0_col2, #T_b6f63_row0_col4, #T_b6f63_row1_col4, #T_b6f63_row2_col5, #T_b6f63_row3_col1, #T_b6f63_row4_col0, #T_b6f63_row5_col1 {\n",
              "  background-color: #3c4ec2;\n",
              "  color: #f1f1f1;\n",
              "}\n",
              "#T_b6f63_row0_col3, #T_b6f63_row1_col5, #T_b6f63_row2_col0, #T_b6f63_row2_col1, #T_b6f63_row2_col3, #T_b6f63_row3_col0, #T_b6f63_row3_col2, #T_b6f63_row3_col4, #T_b6f63_row4_col1, #T_b6f63_row4_col3 {\n",
              "  background-color: #3b4cc0;\n",
              "  color: #f1f1f1;\n",
              "}\n",
              "#T_b6f63_row0_col5, #T_b6f63_row1_col2 {\n",
              "  background-color: #3d50c3;\n",
              "  color: #f1f1f1;\n",
              "}\n",
              "#T_b6f63_row1_col0 {\n",
              "  background-color: #4257c9;\n",
              "  color: #f1f1f1;\n",
              "}\n",
              "#T_b6f63_row1_col3 {\n",
              "  background-color: #3e51c5;\n",
              "  color: #f1f1f1;\n",
              "}\n",
              "#T_b6f63_row2_col4, #T_b6f63_row4_col2, #T_b6f63_row4_col5 {\n",
              "  background-color: #485fd1;\n",
              "  color: #f1f1f1;\n",
              "}\n",
              "#T_b6f63_row3_col5, #T_b6f63_row5_col3 {\n",
              "  background-color: #b70d28;\n",
              "  color: #f1f1f1;\n",
              "}\n",
              "#T_b6f63_row5_col0 {\n",
              "  background-color: #4055c8;\n",
              "  color: #f1f1f1;\n",
              "}\n",
              "#T_b6f63_row5_col4 {\n",
              "  background-color: #4b64d5;\n",
              "  color: #f1f1f1;\n",
              "}\n",
              "</style>\n",
              "<table id=\"T_b6f63\" class=\"dataframe\">\n",
              "  <thead>\n",
              "    <tr>\n",
              "      <th class=\"blank level0\" >&nbsp;</th>\n",
              "      <th id=\"T_b6f63_level0_col0\" class=\"col_heading level0 col0\" >children</th>\n",
              "      <th id=\"T_b6f63_level0_col1\" class=\"col_heading level0 col1\" >age</th>\n",
              "      <th id=\"T_b6f63_level0_col2\" class=\"col_heading level0 col2\" >online_security</th>\n",
              "      <th id=\"T_b6f63_level0_col3\" class=\"col_heading level0 col3\" >tenure</th>\n",
              "      <th id=\"T_b6f63_level0_col4\" class=\"col_heading level0 col4\" >monthly_charge</th>\n",
              "      <th id=\"T_b6f63_level0_col5\" class=\"col_heading level0 col5\" >bandwidth_gb_year</th>\n",
              "    </tr>\n",
              "  </thead>\n",
              "  <tbody>\n",
              "    <tr>\n",
              "      <th id=\"T_b6f63_level0_row0\" class=\"row_heading level0 row0\" >children</th>\n",
              "      <td id=\"T_b6f63_row0_col0\" class=\"data row0 col0\" >1.000000</td>\n",
              "      <td id=\"T_b6f63_row0_col1\" class=\"data row0 col1\" >0.029732</td>\n",
              "      <td id=\"T_b6f63_row0_col2\" class=\"data row0 col2\" >0.006937</td>\n",
              "      <td id=\"T_b6f63_row0_col3\" class=\"data row0 col3\" >0.005091</td>\n",
              "      <td id=\"T_b6f63_row0_col4\" class=\"data row0 col4\" >0.009781</td>\n",
              "      <td id=\"T_b6f63_row0_col5\" class=\"data row0 col5\" >0.025585</td>\n",
              "    </tr>\n",
              "    <tr>\n",
              "      <th id=\"T_b6f63_level0_row1\" class=\"row_heading level0 row1\" >age</th>\n",
              "      <td id=\"T_b6f63_row1_col0\" class=\"data row1 col0\" >0.029732</td>\n",
              "      <td id=\"T_b6f63_row1_col1\" class=\"data row1 col1\" >1.000000</td>\n",
              "      <td id=\"T_b6f63_row1_col2\" class=\"data row1 col2\" >0.011213</td>\n",
              "      <td id=\"T_b6f63_row1_col3\" class=\"data row1 col3\" >0.016979</td>\n",
              "      <td id=\"T_b6f63_row1_col4\" class=\"data row1 col4\" >0.010729</td>\n",
              "      <td id=\"T_b6f63_row1_col5\" class=\"data row1 col5\" >0.014724</td>\n",
              "    </tr>\n",
              "    <tr>\n",
              "      <th id=\"T_b6f63_level0_row2\" class=\"row_heading level0 row2\" >online_security</th>\n",
              "      <td id=\"T_b6f63_row2_col0\" class=\"data row2 col0\" >0.006937</td>\n",
              "      <td id=\"T_b6f63_row2_col1\" class=\"data row2 col1\" >0.011213</td>\n",
              "      <td id=\"T_b6f63_row2_col2\" class=\"data row2 col2\" >1.000000</td>\n",
              "      <td id=\"T_b6f63_row2_col3\" class=\"data row2 col3\" >0.002508</td>\n",
              "      <td id=\"T_b6f63_row2_col4\" class=\"data row2 col4\" >0.047734</td>\n",
              "      <td id=\"T_b6f63_row2_col5\" class=\"data row2 col5\" >0.021006</td>\n",
              "    </tr>\n",
              "    <tr>\n",
              "      <th id=\"T_b6f63_level0_row3\" class=\"row_heading level0 row3\" >tenure</th>\n",
              "      <td id=\"T_b6f63_row3_col0\" class=\"data row3 col0\" >0.005091</td>\n",
              "      <td id=\"T_b6f63_row3_col1\" class=\"data row3 col1\" >0.016979</td>\n",
              "      <td id=\"T_b6f63_row3_col2\" class=\"data row3 col2\" >0.002508</td>\n",
              "      <td id=\"T_b6f63_row3_col3\" class=\"data row3 col3\" >1.000000</td>\n",
              "      <td id=\"T_b6f63_row3_col4\" class=\"data row3 col4\" >0.003337</td>\n",
              "      <td id=\"T_b6f63_row3_col5\" class=\"data row3 col5\" >0.991495</td>\n",
              "    </tr>\n",
              "    <tr>\n",
              "      <th id=\"T_b6f63_level0_row4\" class=\"row_heading level0 row4\" >monthly_charge</th>\n",
              "      <td id=\"T_b6f63_row4_col0\" class=\"data row4 col0\" >0.009781</td>\n",
              "      <td id=\"T_b6f63_row4_col1\" class=\"data row4 col1\" >0.010729</td>\n",
              "      <td id=\"T_b6f63_row4_col2\" class=\"data row4 col2\" >0.047734</td>\n",
              "      <td id=\"T_b6f63_row4_col3\" class=\"data row4 col3\" >0.003337</td>\n",
              "      <td id=\"T_b6f63_row4_col4\" class=\"data row4 col4\" >1.000000</td>\n",
              "      <td id=\"T_b6f63_row4_col5\" class=\"data row4 col5\" >0.060406</td>\n",
              "    </tr>\n",
              "    <tr>\n",
              "      <th id=\"T_b6f63_level0_row5\" class=\"row_heading level0 row5\" >bandwidth_gb_year</th>\n",
              "      <td id=\"T_b6f63_row5_col0\" class=\"data row5 col0\" >0.025585</td>\n",
              "      <td id=\"T_b6f63_row5_col1\" class=\"data row5 col1\" >0.014724</td>\n",
              "      <td id=\"T_b6f63_row5_col2\" class=\"data row5 col2\" >0.021006</td>\n",
              "      <td id=\"T_b6f63_row5_col3\" class=\"data row5 col3\" >0.991495</td>\n",
              "      <td id=\"T_b6f63_row5_col4\" class=\"data row5 col4\" >0.060406</td>\n",
              "      <td id=\"T_b6f63_row5_col5\" class=\"data row5 col5\" >1.000000</td>\n",
              "    </tr>\n",
              "  </tbody>\n",
              "</table>\n"
            ]
          },
          "metadata": {},
          "execution_count": 8
        }
      ]
    },
    {
      "cell_type": "markdown",
      "source": [],
      "metadata": {
        "id": "83z-SpMF5Hzy"
      }
    },
    {
      "cell_type": "code",
      "source": [
        "#save dataset\n",
        "df.to_csv('churn_clean_final(D209_T2).csv', index=False)"
      ],
      "metadata": {
        "id": "3FoI2e0y4d-P"
      },
      "execution_count": null,
      "outputs": []
    },
    {
      "cell_type": "code",
      "source": [
        "#split data into train and test data\n",
        "X = df.drop(columns=['tenure'])\n",
        "y = df['tenure']\n",
        "X_train, X_test, y_train, y_test = train_test_split(X, y, test_size=0.2, random_state=42)"
      ],
      "metadata": {
        "id": "a3ErEBMd5SmJ"
      },
      "execution_count": null,
      "outputs": []
    },
    {
      "cell_type": "code",
      "source": [
        "#save train and test datasets\n",
        "X_train.to_csv('X_train_T2.csv')\n",
        "X_test.to_csv('X_test_T2.csv')\n",
        "y_train.to_csv('y_train_T2.csv')\n",
        "y_test.to_csv('y_test_T2.csv')"
      ],
      "metadata": {
        "id": "s-oOB3k25i8t"
      },
      "execution_count": null,
      "outputs": []
    },
    {
      "cell_type": "markdown",
      "source": [
        "\n",
        "###ACCURACY AND MSE\n",
        "\n",
        "The results of the prediction model indicate a strong performance in predicting customer tenure using the Decision Tree Regression model. Here's an explanation of the two key metrics:\n",
        "\n",
        "1. Mean Squared Error (MSE):\n",
        "\n",
        "- Test set Mean Squared Error: 7.700\n",
        "\n",
        "- MSE measures the average squared difference between the predicted values and the actual values. A lower MSE indicates that the model's predictions are close to the actual data points. In this case, the MSE of 7.700 is relatively low, meaning the model's predictions for customer tenure are quite accurate, with minimal error.\n",
        "\n",
        "2. R-squared (R²):\n",
        "\n",
        "- Test set R-squared: 0.989\n",
        "\n",
        "- R-squared represents the proportion of the variance in the target variable (customer tenure) that is explained by the independent variables in the model. An R² value of 0.989 indicates that 98.9% of the variability in customer tenure can be explained by the model. This high R² value suggests that the model fits the data exceptionally well and is capable of making highly accurate predictions.\n",
        "\n",
        "The model, with an optimal depth of 9 and a minimum of 25 samples per leaf, demonstrates excellent predictive power. The low MSE and the near-perfect R² value highlight the model’s ability to accurately capture the relationship between the independent variables and customer tenure, making it a reliable tool for predicting how long customers will stay with the company.\n"
      ],
      "metadata": {
        "id": "Xcdye82gQWQN"
      }
    },
    {
      "cell_type": "code",
      "source": [
        "# Define parameters\n",
        "params_dt = {\n",
        "    'max_depth': [1, 2, 3, 4, 5, 6, 7, 8, 9, 10],\n",
        "    'min_samples_leaf': [10, 25, 50, 75, 100]\n",
        "}\n",
        "\n",
        "# Create regressor\n",
        "dt = DecisionTreeRegressor(random_state=42)\n",
        "\n",
        "# Perform GridSearchCV\n",
        "grid_dt = GridSearchCV(estimator=dt, param_grid=params_dt, scoring='r2', cv=10, n_jobs=-1)\n",
        "\n",
        "# Fit GridSearch to training data\n",
        "grid_dt.fit(X_train, y_train)\n",
        "\n",
        "# Get the best estimator from the grid search\n",
        "best_model = grid_dt.best_estimator_\n",
        "\n",
        "# Predict on the test set\n",
        "y_pred = best_model.predict(X_test)\n",
        "\n",
        "# Calculate and print test set metrics\n",
        "test_mse = mse(y_test, y_pred)\n",
        "print('Test set Mean Squared Error: {:.3f}'.format(test_mse))\n",
        "\n",
        "test_r2 = r2_score(y_test, y_pred)\n",
        "print('Test set R-squared: {:.3f}'.format(test_r2))\n",
        "\n",
        "# Display best parameters\n",
        "print(grid_dt.best_params_)"
      ],
      "metadata": {
        "colab": {
          "base_uri": "https://localhost:8080/"
        },
        "id": "zQNBDwA-5xjA",
        "outputId": "0638c827-1958-4892-fe15-9b9f73f43efd"
      },
      "execution_count": null,
      "outputs": [
        {
          "output_type": "stream",
          "name": "stdout",
          "text": [
            "Test set Mean Squared Error: 7.700\n",
            "Test set R-squared: 0.989\n",
            "{'max_depth': 9, 'min_samples_leaf': 25}\n"
          ]
        }
      ]
    },
    {
      "cell_type": "code",
      "source": [
        "#build the tuned model\n",
        "dt = DecisionTreeRegressor(max_depth=9, min_samples_leaf=25, random_state=42)\n",
        "dt.fit(X_train, y_train)\n",
        "y_pred = dt.predict(X_test)\n",
        "test_mse = mse(y_test, y_pred)\n",
        "print('Test set Mean Squared Error: {:.3f}'.format(test_mse))\n",
        "test_r2 = r2_score(y_test, y_pred)\n",
        "print('Test set R-squared: {:.3f}'.format(test_r2))"
      ],
      "metadata": {
        "colab": {
          "base_uri": "https://localhost:8080/"
        },
        "id": "3Jwjdmpp543w",
        "outputId": "867cd7ec-5d45-4490-ab32-942116adcb4b"
      },
      "execution_count": null,
      "outputs": [
        {
          "output_type": "stream",
          "name": "stdout",
          "text": [
            "Test set Mean Squared Error: 7.700\n",
            "Test set R-squared: 0.989\n"
          ]
        }
      ]
    },
    {
      "cell_type": "markdown",
      "source": [
        "\n",
        "###RESULTS AND IMPLICATIONS\n",
        "\n",
        "The results of the prediction analysis show that the Decision Tree Regression model is highly effective at predicting customer tenure, as demonstrated by the low Mean Squared Error (MSE) of 7.700 and a very high R-squared (R²) value of 0.989. These results indicate that the model can explain almost all the variability in the target variable (tenure) based on the features used in the analysis.\n",
        "\n",
        "**Key Results:**\n",
        "\n",
        "1. Accuracy of the Model: The high R² value (0.989) indicates that the model fits the data exceptionally well, meaning it can accurately predict customer tenure based on factors such as age, number of children, monthly charges, bandwidth usage, and online security. This high accuracy suggests that the model has identified the most relevant features that influence how long customers stay with the company.\n",
        "\n",
        "2. Mean Squared Error: The relatively low MSE of 7.700 implies that the model’s predictions are close to the actual values, meaning the errors between the predicted and real tenure values are small. This makes the model reliable for identifying customers who are likely to stay for a shorter or longer period.\n",
        "\n",
        "**Implications of the Prediction Analysis:**\n",
        "\n",
        "1. Improved Customer Retention Strategies: The results provide actionable insights into the factors that contribute most to customer tenure. With this information, the company can develop targeted retention strategies. For example, customers with lower tenure predictions can be offered customized incentives or enhanced services to increase their loyalty and reduce churn.\n",
        "\n",
        "2. Resource Allocation: By knowing the key factors influencing tenure, the company can optimize the allocation of resources. For instance, it can focus customer service and marketing efforts on customers at risk of churning, thus potentially reducing costs associated with acquiring new customers and improving overall customer satisfaction.\n",
        "\n",
        "3. Product and Service Enhancement: The insights from the model can guide product development by highlighting services (e.g., online security) that may have a significant impact on customer retention. Offering improved or additional services could increase customer engagement and encourage long-term commitments.\n",
        "\n",
        "4. Proactive Interventions: With a predictive model in place, the company can implement proactive interventions by identifying customers who may be at risk of leaving. Early intervention strategies, such as personalized offers or improved customer support, can help extend customer tenure and prevent churn.\n",
        "\n",
        "The results of the analysis suggest that the Decision Tree Regression model is a powerful tool for predicting customer tenure, providing valuable insights that can help the company strengthen its customer retention efforts, optimize resources, and potentially increase overall profitability.\n"
      ],
      "metadata": {
        "id": "ZemNFolSQk6A"
      }
    },
    {
      "cell_type": "markdown",
      "source": [
        "\n",
        "###LIMITATION\n",
        "\n",
        "One limitation of this data analysis is the potential for overfitting inherent in decision tree models. Although hyperparameter tuning (e.g., adjusting the maximum depth and minimum samples per leaf) was performed to mitigate this issue, decision trees are still prone to capturing noise or overly specific patterns in the training data. This can lead to a model that performs exceptionally well on the training set but may not generalize as effectively to new, unseen data. While the model's performance metrics, such as the high R-squared value and low MSE, suggest strong predictive power on the test set, there's a possibility that the model may struggle with different datasets or future customer data that exhibits new patterns or slight variations. This overfitting risk is especially pronounced when the dataset is relatively small or does not capture the full range of customer behaviors.\n"
      ],
      "metadata": {
        "id": "BcEpd8qKRERn"
      }
    },
    {
      "cell_type": "markdown",
      "source": [
        "\n",
        "###COURSE OF ACTION\n",
        "\n",
        "Based on the results and implications discussed in part E2, I recommend that the organization implement targeted retention strategies using the model's insights into key factors influencing customer tenure, such as monthly charges, bandwidth usage, age, and online security features. Customers with shorter predicted tenure should be offered personalized incentives, such as discounts or additional services, to extend their relationship with the company. Additionally, the company should focus on improving high-impact services like Online Security, which could strengthen customer loyalty. Resource allocation should be optimized by concentrating efforts on customers more likely to churn, thus reducing costs and improving the effectiveness of retention strategies. Proactive customer engagement, such as setting up alerts to flag at-risk customers, would allow the company to address issues early and potentially prevent churn. It is also important to regularly monitor and retrain the model as new data becomes available to ensure its continued relevance. Moreover, considering the use of ensemble techniques like Random Forests could further enhance prediction accuracy and reliability, enabling more effective retention efforts. These actions, driven by the model's predictions, can help the organization reduce churn, improve customer retention, and enhance overall profitability.\n"
      ],
      "metadata": {
        "id": "EnGF7HsMRIZF"
      }
    }
  ]
}